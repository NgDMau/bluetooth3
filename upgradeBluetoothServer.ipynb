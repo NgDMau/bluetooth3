{
 "cells": [
  {
   "cell_type": "code",
   "execution_count": 50,
   "metadata": {},
   "outputs": [],
   "source": [
    "def checkcode(givenstring, code):\n",
    "    for i in range(len(givenstring)-len(code)):\n",
    "        start_element = givenstring[i]\n",
    "        check_string  = start_element\n",
    "        print(start_element)\n",
    "        for j in range(len(code)-1):\n",
    "            check_string += givenstring[i+j+1]\n",
    "        print(check_string)\n",
    "        if check_string == code:\n",
    "            return code\n",
    "    return False"
   ]
  },
  {
   "cell_type": "code",
   "execution_count": 51,
   "metadata": {},
   "outputs": [
    {
     "name": "stdout",
     "output_type": "stream",
     "text": [
      "b\n",
      "b'browsefi\n",
      "'\n",
      "'browsefil\n",
      "b\n",
      "browsefile\n"
     ]
    },
    {
     "data": {
      "text/plain": [
       "'browsefile'"
      ]
     },
     "execution_count": 51,
     "metadata": {},
     "output_type": "execute_result"
    }
   ],
   "source": [
    "checkcode(\"b'browsefile'\",\"browsefile\")"
   ]
  },
  {
   "cell_type": "code",
   "execution_count": null,
   "metadata": {},
   "outputs": [],
   "source": []
  }
 ],
 "metadata": {
  "kernelspec": {
   "display_name": "Python 3",
   "language": "python",
   "name": "python3"
  },
  "language_info": {
   "codemirror_mode": {
    "name": "ipython",
    "version": 3
   },
   "file_extension": ".py",
   "mimetype": "text/x-python",
   "name": "python",
   "nbconvert_exporter": "python",
   "pygments_lexer": "ipython3",
   "version": "3.7.1"
  }
 },
 "nbformat": 4,
 "nbformat_minor": 2
}
