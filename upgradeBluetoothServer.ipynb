{
 "cells": [
  {
   "cell_type": "code",
   "execution_count": 1,
   "metadata": {},
   "outputs": [],
   "source": [
    "def checkcode(givenstring, code):\n",
    "    for i in range(len(givenstring)-len(code)):\n",
    "        start_element = givenstring[i]\n",
    "        check_string  = start_element\n",
    "        #print(start_element)\n",
    "        for j in range(len(code)-1):\n",
    "            check_string += givenstring[i+j+1]\n",
    "        #print('check_string '+check_string)\n",
    "        if check_string == code:\n",
    "            return code\n",
    "    return False"
   ]
  },
  {
   "cell_type": "code",
   "execution_count": 16,
   "metadata": {},
   "outputs": [
    {
     "data": {
      "text/plain": [
       "\"b'\""
      ]
     },
     "execution_count": 16,
     "metadata": {},
     "output_type": "execute_result"
    }
   ],
   "source": [
    "checkcode(\"b'8b8.jpg'\",\"b'\")"
   ]
  },
  {
   "cell_type": "code",
   "execution_count": 2,
   "metadata": {},
   "outputs": [],
   "source": [
    "code_list = [\"browsefile\", \"checkinfo_123456\", \"transfer\", \"DPI\", \"Time\"]"
   ]
  },
  {
   "cell_type": "code",
   "execution_count": 3,
   "metadata": {},
   "outputs": [
    {
     "name": "stdout",
     "output_type": "stream",
     "text": [
      "checkinfo_123456\n"
     ]
    }
   ],
   "source": [
    "data = \"b'checkinfo_123456'\"\n",
    "for code in code_list:\n",
    "    result = checkcode(str(data), code)\n",
    "    if(result != False):\n",
    "        print(result)"
   ]
  },
  {
   "cell_type": "code",
   "execution_count": 4,
   "metadata": {},
   "outputs": [],
   "source": [
    "def opush_channel(MAC_addr):\n",
    "    import subprocess\n",
    "    result = subprocess.run(['sdptool','search','--bdaddr',str(MAC_addr),'OPUSH','|','grep',' channel'],stdin = subprocess.PIPE, stdout=subprocess.PIPE)\n",
    "    return result.stdout"
   ]
  },
  {
   "cell_type": "code",
   "execution_count": 5,
   "metadata": {},
   "outputs": [
    {
     "data": {
      "text/plain": [
       "b'Failed to connect to SDP server on 9C:2E:A1:9A:54:96: No route to host\\n'"
      ]
     },
     "execution_count": 5,
     "metadata": {},
     "output_type": "execute_result"
    }
   ],
   "source": [
    "opush_channel(\"9C:2E:A1:9A:54:96\")"
   ]
  },
  {
   "cell_type": "code",
   "execution_count": 27,
   "metadata": {},
   "outputs": [],
   "source": [
    "def getdata(data):\n",
    "    data = str(data)\n",
    "    if(checkcode(data, \"b'\") != False) :\n",
    "        data = data.split(\"'\")[1]\n",
    "        return data\n",
    "    else:\n",
    "        return data"
   ]
  },
  {
   "cell_type": "code",
   "execution_count": 26,
   "metadata": {},
   "outputs": [
    {
     "data": {
      "text/plain": [
       "'8b8.jpg'"
      ]
     },
     "execution_count": 26,
     "metadata": {},
     "output_type": "execute_result"
    }
   ],
   "source": [
    "getdata(\" b'8b8.jpg' \")"
   ]
  },
  {
   "cell_type": "code",
   "execution_count": 41,
   "metadata": {},
   "outputs": [
    {
     "name": "stdout",
     "output_type": "stream",
     "text": [
      "256\n"
     ]
    }
   ],
   "source": [
    "import os\n",
    "\n",
    "a = os.system(\" obexftp --nopath --noconn --uuid none --bluetooth 9C:2E:A1:9A:54:96 --channel 4 --put imageToSave.jpg\")\n",
    "print(a)"
   ]
  },
  {
   "cell_type": "code",
   "execution_count": null,
   "metadata": {},
   "outputs": [],
   "source": []
  }
 ],
 "metadata": {
  "kernelspec": {
   "display_name": "Python 3",
   "language": "python",
   "name": "python3"
  },
  "language_info": {
   "codemirror_mode": {
    "name": "ipython",
    "version": 3
   },
   "file_extension": ".py",
   "mimetype": "text/x-python",
   "name": "python",
   "nbconvert_exporter": "python",
   "pygments_lexer": "ipython3",
   "version": "3.7.1"
  }
 },
 "nbformat": 4,
 "nbformat_minor": 2
}
